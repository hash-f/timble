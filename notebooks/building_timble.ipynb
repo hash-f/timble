{
  "cells": [
    {
      "cell_type": "markdown",
      "metadata": {
        "id": "C0-srh7HyiVJ"
      },
      "source": [
        "As content becomes more and more freely available, it has become kind of a full time job to identify what to watch next. The streaming services have their own recommendation algorigthms but they work in silos.\n",
        "\n",
        "In this article we are going to build a bare bones recommendation system using Qdrant vector search. We will be using semantic similarity to find movie recommendations.\n",
        "\n",
        "_Disclaimer: I am no expert in AI, recommendation systems or vector databases. This post is an experiment to move towards that point in this high dimensional vector space._\n",
        "\n",
        "If you would like to follow along you can use the notebook from this github repo.\n"
      ]
    },
    {
      "cell_type": "markdown",
      "metadata": {},
      "source": [
        "# Installing ipywidgets\n",
        "\n",
        "__You can skip this section if you are running on google collab.__\n",
        "\n",
        "I had to restart the jupyter kernel to get ipywidgets to work. It's better to do that now instead of doing that later and loosing all the progress."
      ]
    },
    {
      "cell_type": "code",
      "execution_count": null,
      "metadata": {},
      "outputs": [],
      "source": [
        "# Install\n",
        "%pip install ipywidgets"
      ]
    },
    {
      "cell_type": "markdown",
      "metadata": {},
      "source": [
        "Let's see if `ipywidgets` is available. You should be able to see a slider when you run the next cell. It didn't work for me right away. I had to restart the jupyter kernel to get it to work."
      ]
    },
    {
      "cell_type": "code",
      "execution_count": null,
      "metadata": {},
      "outputs": [],
      "source": [
        "import ipywidgets as widgets\n",
        "widgets.IntSlider()"
      ]
    },
    {
      "cell_type": "markdown",
      "metadata": {
        "id": "kbJfwkNd0Jbf"
      },
      "source": [
        "# Fetch the data from TMDB\n",
        "\n",
        "First, we need some data on movies and tv series. [TMDB provides an API](https://developer.themoviedb.org/reference/intro/getting-started) that would be perfect for this.\n",
        "\n",
        "We need an API key to access the data from TMDB. If you would like to follow along, [head over to TMDB now](https://developer.themoviedb.org/v4/reference/intro/getting-started) to create an API key."
      ]
    },
    {
      "cell_type": "code",
      "execution_count": 9,
      "metadata": {
        "id": "tV23t2w-1FqK"
      },
      "outputs": [],
      "source": [
        "# Update this with your api key\n",
        "import os\n",
        "os.environ[\"TMDB_API_KEY\"] = \"\""
      ]
    },
    {
      "cell_type": "markdown",
      "metadata": {
        "id": "EYAkDn8Z1b35"
      },
      "source": [
        "We are going to fetch the top rated movies and the top rated tv series from TMDB. We have to fetch the data from 2 different endpoints for that.\n",
        "- https://api.themoviedb.org/3/movie/top_rated\n",
        "- https://api.themoviedb.org/3/tv/top_rated\n",
        "\n",
        "Like most APIs the data provided by TMDB is paginated. Let's write a function to fetch the data for specific page."
      ]
    },
    {
      "cell_type": "code",
      "execution_count": 10,
      "metadata": {
        "id": "OvGO8Khe1U06"
      },
      "outputs": [],
      "source": [
        "import requests\n",
        "import json\n",
        "\n",
        "def fetch_titles_for_page(title_type, page):\n",
        "    headers = {\n",
        "        \"accept\": \"application/json\",\n",
        "        \"Authorization\": f\"Bearer {os.getenv('TMDB_API_KEY')}\",\n",
        "    }\n",
        "\n",
        "    url = f\"https://api.themoviedb.org/3/{title_type}/top_rated?language=en-US&page={page}\"\n",
        "    response = requests.get(url, headers=headers)\n",
        "    response_text = response.text\n",
        "    response_json = json.loads(response_text)\n",
        "    return {\n",
        "        \"titles\": response_json[\"results\"],\n",
        "        \"total_pages\": response_json[\"total_pages\"],\n",
        "    }"
      ]
    },
    {
      "cell_type": "markdown",
      "metadata": {
        "id": "2LLYOE4Z3dC5"
      },
      "source": [
        "Let's try this for a page of movies"
      ]
    },
    {
      "cell_type": "code",
      "execution_count": 100,
      "metadata": {
        "colab": {
          "base_uri": "https://localhost:8080/"
        },
        "id": "K2nvpNch25b6",
        "outputId": "66e7c652-504d-4c9a-bd1c-deebe473bf22"
      },
      "outputs": [
        {
          "name": "stdout",
          "output_type": "stream",
          "text": [
            "20 102\n",
            "{'adult': False,\n",
            " 'backdrop_path': '/9faGSFi5jam6pDWGNd0p8JcJgXQ.jpg',\n",
            " 'genre_ids': [18, 80],\n",
            " 'id': 1396,\n",
            " 'origin_country': ['US'],\n",
            " 'original_language': 'en',\n",
            " 'original_name': 'Breaking Bad',\n",
            " 'overview': 'Walter White, a New Mexico chemistry teacher, is diagnosed with '\n",
            "             'Stage III cancer and given a prognosis of only two years left to '\n",
            "             'live. He becomes filled with a sense of fearlessness and an '\n",
            "             \"unrelenting desire to secure his family's financial future at \"\n",
            "             'any cost as he enters the dangerous world of drugs and crime.',\n",
            " 'popularity': 547.234,\n",
            " 'poster_path': '/ztkUQFLlC19CCMYHW9o1zWhJRNq.jpg',\n",
            " 'first_air_date': '2008-01-20',\n",
            " 'name': 'Breaking Bad',\n",
            " 'vote_average': 8.913,\n",
            " 'vote_count': 14017}\n"
          ]
        }
      ],
      "source": [
        "import pprint\n",
        "response = fetch_titles_for_page(\"tv\", 1)\n",
        "print(len(response[\"titles\"]), response[\"total_pages\"])\n",
        "pprint.pp(response[\"titles\"][0])"
      ]
    },
    {
      "cell_type": "markdown",
      "metadata": {
        "id": "_jDOGF514gXV"
      },
      "source": [
        "Now, we are ready to write a function that would take a title type, fetch the data from all the pages and write it to a jsonl file. We are storing the data as json lines so that we can read and write individual titles without deserializing all the titles everytime.\n",
        "\n",
        "Let's create a data directory in our root folder. You can do this in google collab using the file explorer or using the code below."
      ]
    },
    {
      "cell_type": "code",
      "execution_count": 102,
      "metadata": {
        "id": "wRzFCHcQ6Lrg"
      },
      "outputs": [],
      "source": [
        "from pathlib import Path\n",
        "Path(\"./data\").mkdir(exist_ok=True)"
      ]
    },
    {
      "cell_type": "markdown",
      "metadata": {
        "id": "oZ6vyMUk6Yps"
      },
      "source": [
        "Let's do a quick check to see if our directory has been created in the correct spot"
      ]
    },
    {
      "cell_type": "code",
      "execution_count": 103,
      "metadata": {
        "id": "sItbyL6c5CRL"
      },
      "outputs": [],
      "source": [
        "with open(\"./data/test.jsonl\", \"a\") as fh:\n",
        "  json.dump([1, 2, 3], fh)\n",
        "  fh.write(\"\\n\")"
      ]
    },
    {
      "cell_type": "markdown",
      "metadata": {
        "id": "15hqWId96ok7"
      },
      "source": [
        "We are now ready to fetch all the titles. Let's write the function for that."
      ]
    },
    {
      "cell_type": "code",
      "execution_count": 110,
      "metadata": {
        "id": "4kHcNR0Q6ntv"
      },
      "outputs": [],
      "source": [
        "import time\n",
        "\n",
        "def fetch_top_rated_titles(title_type):\n",
        "  page = 1\n",
        "  total_pages = 1 # We don't know the total number of pages yet, so we start with 1\n",
        "\n",
        "  while page <= total_pages:\n",
        "    response = fetch_titles_for_page(title_type, page)\n",
        "    if len(response[\"titles\"]) != 0:\n",
        "      total_pages = response[\"total_pages\"]\n",
        "      with open(\"data/top-titles.jsonl\", \"a\") as fh:\n",
        "        for title in response[\"titles\"]:\n",
        "          # TMDB has different field names for movies and tv series\n",
        "          # We will use a common name for both\n",
        "          if title.get(\"title\") is not None:\n",
        "            title[\"name\"] = title.get(\"title\")\n",
        "            del title[\"title\"]          \n",
        "\n",
        "          if title.get(\"original_title\") is not None:\n",
        "            title[\"original_name\"] = title.get(\"original_title\")\n",
        "            del title[\"original_title\"]\n",
        "          \n",
        "          # We are parsing the release year from the date\n",
        "          if title.get(\"release_date\") is not None:\n",
        "            title[\"release_year\"] = int(title.get(\"release_date\").split(\"-\")[0])\n",
        "          elif title.get(\"first_air_date\") is not None:\n",
        "            title[\"release_year\"] = int(title.get(\"first_air_date\").split(\"-\")[0])\n",
        "            \n",
        "          title[\"type\"] = title_type\n",
        "          json.dump(title, fh)\n",
        "          fh.write(\"\\n\")\n",
        "      page += 1\n",
        "      time.sleep(0.1)"
      ]
    },
    {
      "cell_type": "code",
      "execution_count": 111,
      "metadata": {
        "id": "yvNxpqVN87t2"
      },
      "outputs": [],
      "source": [
        "# Fetch all top rated movies\n",
        "# This would take a few minutes as we are fetching close to 10,000 movies\n",
        "fetch_top_rated_titles(title_type=\"movie\")"
      ]
    },
    {
      "cell_type": "code",
      "execution_count": 112,
      "metadata": {
        "id": "9e_jcf-n9lZJ"
      },
      "outputs": [],
      "source": [
        "# Fetch all top rated tv series\n",
        "fetch_top_rated_titles(title_type=\"tv\")"
      ]
    },
    {
      "cell_type": "markdown",
      "metadata": {
        "id": "zZKA143I97XK"
      },
      "source": [
        "We have saved all the movies and all the tv series in our json file. Let's write a function that would make it easier to read them whenever needed.\n",
        "\n",
        "__Note: If you are running this in a cloud environment it would be best to download the json file to your local machine otherwise you might lose it if the session ends.__"
      ]
    },
    {
      "cell_type": "code",
      "execution_count": 11,
      "metadata": {
        "id": "EVefg9xF-MaY"
      },
      "outputs": [],
      "source": [
        "import json\n",
        "\n",
        "# We will store all the titles in a cache to avoid loading it everytime we need a title\n",
        "_titles = []\n",
        "def load_titles_from_disk():\n",
        "    global _titles\n",
        "\n",
        "    # If we have already loaded the titles from disk, return them directly\n",
        "    if len(_titles) > 0:\n",
        "        return _titles\n",
        "\n",
        "    # Load the titles from disk and save them to the cache\n",
        "    file_path = \"./data/top-titles.jsonl\"\n",
        "    with open(file_path, \"r\") as fh:\n",
        "        for line in fh:\n",
        "            title = json.loads(line)\n",
        "            _titles.append(title)\n",
        "\n",
        "    return _titles"
      ]
    },
    {
      "cell_type": "markdown",
      "metadata": {
        "id": "C-I3LJd0-wPs"
      },
      "source": [
        "Now that we have all the titles ready and loaded, let's do a (shallow) dive into Qdrant.\n",
        "\n",
        "# Qdrant Vector DB\n",
        "Qdrant is an open source vector database purpose built for performance. Qdrant is built in rust, a language all new performance oriented things should be built in.\n",
        "\n",
        "## What exactly is a vector database?\n",
        "A vector database allows us to find approximate nearest neighbors of a given vector. Along with this core capability it allows us to filter the vectors by all sorts of metadata.\n",
        "\n",
        "## But, what is a vector?\n",
        "A vector is just an array of floats. The reason why vectors are so popular now is mainly because of embeddings. Embeddings are a way to represent data in such a way that semantically similar things are closer to each other in the vector space.\n",
        "\n",
        "We can create embeddings out of all sorts of data like text, images, sounds, etc.\n",
        "\n",
        "Let's install Qdrant python client. The python client has a fully functional local client that would work greate for out purpose. We will also install the Fastembed library from Qdrant. This will allow us to create embeddings for out titles (Movies and TV series) without installing any additional dependencies.\n",
        "\n"
      ]
    },
    {
      "cell_type": "code",
      "execution_count": null,
      "metadata": {
        "id": "OlWosMLHnZ5d"
      },
      "outputs": [],
      "source": [
        "%pip install \"qdrant-client[fastembed]\""
      ]
    },
    {
      "cell_type": "markdown",
      "metadata": {
        "id": "-qMNY8DKoaig"
      },
      "source": [
        "# Data Exploration\n",
        "A quick look at the data shows we have a few fields of interest"
      ]
    },
    {
      "cell_type": "code",
      "execution_count": 12,
      "metadata": {
        "id": "Q2RrleSJoZS3"
      },
      "outputs": [
        {
          "name": "stdout",
          "output_type": "stream",
          "text": [
            "{'adult': False,\n",
            " 'backdrop_path': '/avedvodAZUcwqevBfm8p4G2NziQ.jpg',\n",
            " 'genre_ids': [18, 80],\n",
            " 'id': 278,\n",
            " 'original_language': 'en',\n",
            " 'overview': 'Imprisoned in the 1940s for the double murder of his wife and '\n",
            "             'her lover, upstanding banker Andy Dufresne begins a new life at '\n",
            "             'the Shawshank prison, where he puts his accounting skills to '\n",
            "             'work for an amoral warden. During his long stretch in prison, '\n",
            "             'Dufresne comes to be admired by the other inmates -- including '\n",
            "             'an older prisoner named Red -- for his integrity and '\n",
            "             'unquenchable sense of hope.',\n",
            " 'popularity': 162.491,\n",
            " 'poster_path': '/9cqNxx0GxF0bflZmeSMuL5tnGzr.jpg',\n",
            " 'release_date': '1994-09-23',\n",
            " 'video': False,\n",
            " 'vote_average': 8.705,\n",
            " 'vote_count': 26660,\n",
            " 'name': 'The Shawshank Redemption',\n",
            " 'original_name': 'The Shawshank Redemption',\n",
            " 'release_year': 1994,\n",
            " 'type': 'movie'}\n"
          ]
        }
      ],
      "source": [
        "import pprint\n",
        "\n",
        "titles = load_titles_from_disk()\n",
        "pprint.pp(titles[0])"
      ]
    },
    {
      "cell_type": "markdown",
      "metadata": {
        "id": "iI8Cfhj2poje"
      },
      "source": [
        "The `overview` field tells us what the title is about. The `name` field tells us about.. well, the name of the title.\n",
        "\n",
        "We will format our titles in the following structure\n",
        "\n",
        "{original_name} is a {title_type} released on {release_data} with the following overview - {overview}\n",
        "\n",
        "Let's create a function for that."
      ]
    },
    {
      "cell_type": "code",
      "execution_count": 13,
      "metadata": {
        "id": "eeojblXoxVLq"
      },
      "outputs": [],
      "source": [
        "def get_formatted_title(title):\n",
        "  formatted_string = \"\"\n",
        "  title_type = title.get(\"type\") if title.get(\"type\") == \"movie\" else \"tv series\"\n",
        "  if title.get(\"name\") is not None:\n",
        "    formatted_string += f\"{title.get(\"name\")} is a {title_type}\"\n",
        "  if title.get(\"release_year\") is not None:\n",
        "    formatted_string += f\" released in {title.get(\"release_year\")}\"\n",
        "  if title.get(\"overview\") is not None:\n",
        "    formatted_string += f\" with the following overview - {title.get(\"overview\")}\"\n",
        "\n",
        "  return formatted_string"
      ]
    },
    {
      "cell_type": "code",
      "execution_count": 119,
      "metadata": {
        "id": "_AmNA8bjyYdh"
      },
      "outputs": [
        {
          "data": {
            "text/plain": [
              "'The Shawshank Redemption is a movie released in 1994 with the following overview - Imprisoned in the 1940s for the double murder of his wife and her lover, upstanding banker Andy Dufresne begins a new life at the Shawshank prison, where he puts his accounting skills to work for an amoral warden. During his long stretch in prison, Dufresne comes to be admired by the other inmates -- including an older prisoner named Red -- for his integrity and unquenchable sense of hope.'"
            ]
          },
          "execution_count": 119,
          "metadata": {},
          "output_type": "execute_result"
        }
      ],
      "source": [
        "get_formatted_title(titles[0])"
      ]
    },
    {
      "cell_type": "code",
      "execution_count": 120,
      "metadata": {},
      "outputs": [
        {
          "data": {
            "text/plain": [
              "'Velma is a tv series released in 2023 with the following overview - Jinkies! This raucous reimagining of the Scooby-Doo franchise unravels the mysterious origins of Mystery, Inc. – as seen through the eyes of the gang’s beloved bespectacled detective Velma.'"
            ]
          },
          "execution_count": 120,
          "metadata": {},
          "output_type": "execute_result"
        }
      ],
      "source": [
        "get_formatted_title(titles[-1])"
      ]
    },
    {
      "cell_type": "markdown",
      "metadata": {
        "id": "T_-3GXQEyeq3"
      },
      "source": [
        "We perform some basic sanity checks and return the formatted string. We will now create vector embeddings for these strings and store them in a qdrant collection.\n",
        "\n",
        "## Qdrant + Fastembed\n",
        "\n",
        "Qdrant along with Fastembed provides a super quick way to embed our documents. We can start by creating a client. We will be using the qdrant cloud. Qdrant's free tier should be enough for our liitle experiment and we can easily upgrade if we want to. \n",
        "\n",
        "If you dont have one already. Head over to [https://cloud.qdrant.io/](https://cloud.qdrant.io/) to create your free cluster. \n",
        "\n",
        "Once you have created a new cluster we will need the API key and the cluster url from the dashboard.\n",
        "\n",
        "![Cluster Url](./images/cluster-url.png \"Cluster Url\")\n",
        "\n",
        "![API Key](./images/api-key.png \"API Key\")"
      ]
    },
    {
      "cell_type": "code",
      "execution_count": 14,
      "metadata": {},
      "outputs": [],
      "source": [
        "import os\n",
        "os.environ[\"QDRANT_API_KEY\"] = \"\"\n",
        "os.environ[\"QDRANT_CLUSTER_URL\"] = \"\""
      ]
    },
    {
      "cell_type": "code",
      "execution_count": 15,
      "metadata": {},
      "outputs": [],
      "source": [
        "from qdrant_client import QdrantClient\n",
        "\n",
        "_client = None\n",
        "def get_client():\n",
        "    global _client\n",
        "    if _client is not None:\n",
        "        return _client\n",
        "    _client = QdrantClient(\n",
        "        url=os.getenv(\"QDRANT_CLUSTER_URL\"), \n",
        "        api_key=os.getenv(\"QDRANT_API_KEY\"))\n",
        "    return _client"
      ]
    },
    {
      "cell_type": "markdown",
      "metadata": {},
      "source": [
        "Fastembed provides multiple ways to manage embeddings. You can interact directly with the embedding generator or use a helper method like `client.add()`.\n",
        "\n",
        "Let's try the direct method first."
      ]
    },
    {
      "cell_type": "code",
      "execution_count": 16,
      "metadata": {},
      "outputs": [
        {
          "data": {
            "application/vnd.jupyter.widget-view+json": {
              "model_id": "9055766854f240589e6c770c3a7f59f6",
              "version_major": 2,
              "version_minor": 0
            },
            "text/plain": [
              "Fetching 5 files:   0%|          | 0/5 [00:00<?, ?it/s]"
            ]
          },
          "metadata": {},
          "output_type": "display_data"
        },
        {
          "name": "stdout",
          "output_type": "stream",
          "text": [
            "The model BAAI/bge-small-en-v1.5 is ready to use.\n"
          ]
        }
      ],
      "source": [
        "from fastembed import TextEmbedding\n",
        "\n",
        "# This will trigger the defautl model download and initialization\n",
        "embedding_model = TextEmbedding()\n",
        "print(\"The model BAAI/bge-small-en-v1.5 is ready to use.\")"
      ]
    },
    {
      "cell_type": "code",
      "execution_count": 17,
      "metadata": {},
      "outputs": [
        {
          "name": "stdout",
          "output_type": "stream",
          "text": [
            "Embedding length -  384\n",
            "First 5 dimensions of vector 0 -  [-0.05396069  0.03002024 -0.07872865  0.00048775  0.02766631]\n",
            "First 5 dimensions of vector 1 -  [-0.03963627  0.06695076 -0.03377489  0.04049916 -0.01512619]\n"
          ]
        }
      ],
      "source": [
        "documents = [get_formatted_title(titles[i]) for i in range(2)]\n",
        "embeddings_generator = embedding_model.embed(documents)\n",
        "embeddings_list = list(embeddings_generator)\n",
        "print(\"Embedding length - \", len(embeddings_list[0]))\n",
        "print(\"First 5 dimensions of vector 0 - \", embeddings_list[0][:5])\n",
        "print(\"First 5 dimensions of vector 1 - \", embeddings_list[1][:5])"
      ]
    },
    {
      "cell_type": "markdown",
      "metadata": {},
      "source": [
        "We are also going to store some metadata along with out"
      ]
    },
    {
      "cell_type": "markdown",
      "metadata": {},
      "source": [
        "`client.add()` helper method takes care of managing the embedding model for us. We can just pass in the documents along with some optional metadata and ids and be done with it. \n",
        "\n",
        "Let's try that now. \n",
        "First we will write a function that seperates out the formatted strings, the metadata and the ids for all the titles. If your data does not have ids qdrant can generate uuids automatically."
      ]
    },
    {
      "cell_type": "code",
      "execution_count": 19,
      "metadata": {},
      "outputs": [],
      "source": [
        "def get_metadata_from_title(title):\n",
        "    return {\n",
        "        \"name\": title.get(\"name\"),\n",
        "        \"type\": title.get(\"type\"),\n",
        "        \"vote_average\": title.get(\"vote_average\"),\n",
        "        \"vote_count\": title.get(\"vote_count\"),\n",
        "        \"release_year\": title.get(\"release_year\"),\n",
        "        \"backdrop_path\": title.get(\"backdrop_path\"),\n",
        "        \"poster_path\": title.get(\"poster_path\"), \n",
        "    }\n",
        "\n",
        "def get_prepared_titles(titles):\n",
        "    docs = []\n",
        "    metadata = []\n",
        "    ids = []\n",
        "    for title in titles:\n",
        "        if title.get(\"name\") and title.get(\"overview\"):\n",
        "            docs.append(get_formatted_title(title))\n",
        "            metadata.append(get_metadata_from_title(title))\n",
        "            ids.append(title[\"id\"])\n",
        "    return docs, metadata, ids"
      ]
    },
    {
      "cell_type": "markdown",
      "metadata": {},
      "source": [
        "Next we will use `client.add()` to embed and store our documents."
      ]
    },
    {
      "cell_type": "code",
      "execution_count": 20,
      "metadata": {},
      "outputs": [],
      "source": [
        "COLLECTION_NAME = \"titles_v1\" \n",
        "\n",
        "def embed_titles(limit=None):\n",
        "    titles = load_titles_from_disk()\n",
        "    docs, metadata, ids = get_prepared_titles(titles[:limit] if limit else titles)\n",
        "    client = get_client()\n",
        "    client.add(\n",
        "        collection_name=COLLECTION_NAME, documents=docs, metadata=metadata, ids=ids\n",
        "    )\n",
        "\n",
        "    return client.count(COLLECTION_NAME)\n"
      ]
    },
    {
      "cell_type": "markdown",
      "metadata": {},
      "source": [
        "Let's embed 10 titles first."
      ]
    },
    {
      "cell_type": "code",
      "execution_count": 21,
      "metadata": {},
      "outputs": [
        {
          "data": {
            "text/plain": [
              "CountResult(count=10)"
            ]
          },
          "execution_count": 21,
          "metadata": {},
          "output_type": "execute_result"
        }
      ],
      "source": [
        "embed_titles(limit=10)"
      ]
    },
    {
      "cell_type": "markdown",
      "metadata": {},
      "source": [
        "Let's try to find a movie and see if the embedding worked."
      ]
    },
    {
      "cell_type": "code",
      "execution_count": 22,
      "metadata": {},
      "outputs": [
        {
          "data": {
            "text/plain": [
              "[QueryResponse(id=238, embedding=None, sparse_embedding=None, metadata={'document': 'The Godfather is a movie released in 1972 with the following overview - Spanning the years 1945 to 1955, a chronicle of the fictional Italian-American Corleone crime family. When organized crime family patriarch, Vito Corleone barely survives an attempt on his life, his youngest son, Michael steps in to take care of the would-be killers, launching a campaign of bloody revenge.', 'name': 'The Godfather', 'type': 'movie', 'vote_average': 8.69, 'vote_count': 20222, 'release_year': 1972, 'backdrop_path': '/tmU7GeKVybMWFButWEGl2M4GeiP.jpg', 'poster_path': '/3bhkrj58Vtu7enYsRolD1fZdja1.jpg'}, document='The Godfather is a movie released in 1972 with the following overview - Spanning the years 1945 to 1955, a chronicle of the fictional Italian-American Corleone crime family. When organized crime family patriarch, Vito Corleone barely survives an attempt on his life, his youngest son, Michael steps in to take care of the would-be killers, launching a campaign of bloody revenge.', score=1.0),\n",
              " QueryResponse(id=240, embedding=None, sparse_embedding=None, metadata={'document': 'The Godfather Part II is a movie released in 1974 with the following overview - In the continuing saga of the Corleone crime family, a young Vito Corleone grows up in Sicily and in 1910s New York. In the 1950s, Michael Corleone attempts to expand the family business into Las Vegas, Hollywood and Cuba.', 'name': 'The Godfather Part II', 'type': 'movie', 'vote_average': 8.574, 'vote_count': 12202, 'release_year': 1974, 'backdrop_path': '/kGzFbGhp99zva6oZODW5atUtnqi.jpg', 'poster_path': '/hek3koDUyRQk7FIhPXsa6mT2Zc3.jpg'}, document='The Godfather Part II is a movie released in 1974 with the following overview - In the continuing saga of the Corleone crime family, a young Vito Corleone grows up in Sicily and in 1910s New York. In the 1950s, Michael Corleone attempts to expand the family business into Las Vegas, Hollywood and Cuba.', score=0.92699754),\n",
              " QueryResponse(id=155, embedding=None, sparse_embedding=None, metadata={'document': 'The Dark Knight is a movie released in 2008 with the following overview - Batman raises the stakes in his war on crime. With the help of Lt. Jim Gordon and District Attorney Harvey Dent, Batman sets out to dismantle the remaining criminal organizations that plague the streets. The partnership proves to be effective, but they soon find themselves prey to a reign of chaos unleashed by a rising criminal mastermind known to the terrified citizens of Gotham as the Joker.', 'name': 'The Dark Knight', 'type': 'movie', 'vote_average': 8.516, 'vote_count': 32393, 'release_year': 2008, 'backdrop_path': '/dqK9Hag1054tghRQSqLSfrkvQnA.jpg', 'poster_path': '/qJ2tW6WMUDux911r6m7haRef0WH.jpg'}, document='The Dark Knight is a movie released in 2008 with the following overview - Batman raises the stakes in his war on crime. With the help of Lt. Jim Gordon and District Attorney Harvey Dent, Batman sets out to dismantle the remaining criminal organizations that plague the streets. The partnership proves to be effective, but they soon find themselves prey to a reign of chaos unleashed by a rising criminal mastermind known to the terrified citizens of Gotham as the Joker.', score=0.84304106),\n",
              " QueryResponse(id=389, embedding=None, sparse_embedding=None, metadata={'document': \"12 Angry Men is a movie released in 1957 with the following overview - The defense and the prosecution have rested and the jury is filing into the jury room to decide if a young Spanish-American is guilty or innocent of murdering his father. What begins as an open and shut case soon becomes a mini-drama of each of the jurors' prejudices and preconceptions about the trial, the accused, and each other.\", 'name': '12 Angry Men', 'type': 'movie', 'vote_average': 8.543, 'vote_count': 8451, 'release_year': 1957, 'backdrop_path': '/qqHQsStV6exghCM7zbObuYBiYxw.jpg', 'poster_path': '/ow3wq89wM8qd5X7hWKxiRfsFf9C.jpg'}, document=\"12 Angry Men is a movie released in 1957 with the following overview - The defense and the prosecution have rested and the jury is filing into the jury room to decide if a young Spanish-American is guilty or innocent of murdering his father. What begins as an open and shut case soon becomes a mini-drama of each of the jurors' prejudices and preconceptions about the trial, the accused, and each other.\", score=0.8360134),\n",
              " QueryResponse(id=278, embedding=None, sparse_embedding=None, metadata={'document': 'The Shawshank Redemption is a movie released in 1994 with the following overview - Imprisoned in the 1940s for the double murder of his wife and her lover, upstanding banker Andy Dufresne begins a new life at the Shawshank prison, where he puts his accounting skills to work for an amoral warden. During his long stretch in prison, Dufresne comes to be admired by the other inmates -- including an older prisoner named Red -- for his integrity and unquenchable sense of hope.', 'name': 'The Shawshank Redemption', 'type': 'movie', 'vote_average': 8.705, 'vote_count': 26660, 'release_year': 1994, 'backdrop_path': '/avedvodAZUcwqevBfm8p4G2NziQ.jpg', 'poster_path': '/9cqNxx0GxF0bflZmeSMuL5tnGzr.jpg'}, document='The Shawshank Redemption is a movie released in 1994 with the following overview - Imprisoned in the 1940s for the double murder of his wife and her lover, upstanding banker Andy Dufresne begins a new life at the Shawshank prison, where he puts his accounting skills to work for an amoral warden. During his long stretch in prison, Dufresne comes to be admired by the other inmates -- including an older prisoner named Red -- for his integrity and unquenchable sense of hope.', score=0.82990015)]"
            ]
          },
          "execution_count": 22,
          "metadata": {},
          "output_type": "execute_result"
        }
      ],
      "source": [
        "titles = load_titles_from_disk()\n",
        "client = get_client()\n",
        "client.query(\n",
        "    collection_name=COLLECTION_NAME,\n",
        "    query_text=get_formatted_title(titles[1]),\n",
        "    limit=5\n",
        ")"
      ]
    },
    {
      "cell_type": "markdown",
      "metadata": {},
      "source": [
        "Let's embed all the titles now. This will take a while."
      ]
    },
    {
      "cell_type": "code",
      "execution_count": 23,
      "metadata": {},
      "outputs": [
        {
          "data": {
            "text/plain": [
              "CountResult(count=11367)"
            ]
          },
          "execution_count": 23,
          "metadata": {},
          "output_type": "execute_result"
        }
      ],
      "source": [
        "# We are embedding ~11k documents. This could take up to 10 minutes.\n",
        "embed_titles()"
      ]
    },
    {
      "cell_type": "code",
      "execution_count": 24,
      "metadata": {},
      "outputs": [
        {
          "data": {
            "text/plain": [
              "CountResult(count=11367)"
            ]
          },
          "execution_count": 24,
          "metadata": {},
          "output_type": "execute_result"
        }
      ],
      "source": [
        "client = get_client()\n",
        "client.count(collection_name=COLLECTION_NAME)"
      ]
    },
    {
      "cell_type": "markdown",
      "metadata": {},
      "source": [
        "Now that we we haveour vectors in the collection we need to create a few payload indexes so that we can filter and sort our data using the payload.\n",
        "\n",
        "We need to create the indexes on the following fields. Different types of indexes support different types of query operations. You can read more about them [here] (https://qdrant.tech/documentation/concepts/indexing/#payload-index)\n",
        "\n",
        "- Field: vote_average, schema: float\n",
        "- Field: type, schema: keyword\n",
        "- Field: release_year, schema: integer\n",
        "\n",
        "Different types of indexes support different types of query operations. You can read more about them [here] (https://qdrant.tech/documentation/concepts/indexing/#payload-index)\n",
        "\n",
        "- Field: vote_average, schema: float\n",
        "- Field: type, schema: keyword"
      ]
    },
    {
      "cell_type": "code",
      "execution_count": 33,
      "metadata": {},
      "outputs": [],
      "source": [
        "client = get_client()\n",
        "\n",
        "indexes = [\n",
        "    {\"field\": \"vote_average\", \"schema\": \"float\"},\n",
        "    {\"field\": \"type\", \"schema\": \"keyword\"},\n",
        "    {\"field\": \"release_year\", \"schema\": \"integer\"},\n",
        "    \n",
        "]\n",
        "\n",
        "for index in indexes:\n",
        "    client.create_payload_index(\n",
        "        collection_name=COLLECTION_NAME,\n",
        "        field_name=index[\"field\"],\n",
        "        field_schema=index[\"schema\"],\n",
        "    )"
      ]
    },
    {
      "cell_type": "markdown",
      "metadata": {},
      "source": [
        "Now that we have embedded all the titles, let's create a simple CLI for our recommendation system. Initially we do not know anything about the user. So we will ask about their preference on the most popular titles. \n",
        "\n",
        "We will use the `QdrantClient.scroll()` method for that"
      ]
    },
    {
      "cell_type": "code",
      "execution_count": 34,
      "metadata": {},
      "outputs": [],
      "source": [
        "from typing import List\n",
        "from qdrant_client.http.models import (\n",
        "    Direction,\n",
        "    Filter,\n",
        "    FieldCondition,\n",
        "    HasIdCondition,\n",
        "    MatchValue,\n",
        "    OrderBy,\n",
        "    Record,\n",
        "    Range\n",
        ")\n",
        "\n",
        "def get_popular_titles(collection_name, ignore_ids=[], release_year_cutoff=1900, limit=10) -> List[Record]:\n",
        "    client = get_client()\n",
        "    titles = []\n",
        "    for title_type in [\"movie\", \"tv\"]:\n",
        "        response = client.scroll(\n",
        "            collection_name=collection_name,\n",
        "            order_by=OrderBy(\n",
        "                key=\"vote_average\",\n",
        "                direction=Direction.DESC,\n",
        "            ),\n",
        "            scroll_filter=Filter(\n",
        "                must=[\n",
        "                    FieldCondition(key=\"type\", match=MatchValue(value=title_type)),\n",
        "                    FieldCondition(key=\"release_year\", range=Range(gte=release_year_cutoff))\n",
        "                ],\n",
        "                must_not=[\n",
        "                    HasIdCondition(has_id=ignore_ids),\n",
        "                ],\n",
        "            ),\n",
        "            limit=limit//2,\n",
        "        )\n",
        "\n",
        "        titles.extend(response[0])\n",
        "    return titles"
      ]
    },
    {
      "cell_type": "code",
      "execution_count": 35,
      "metadata": {},
      "outputs": [
        {
          "data": {
            "text/plain": [
              "[Record(id=278, payload={'document': 'The Shawshank Redemption is a movie released in 1994 with the following overview - Imprisoned in the 1940s for the double murder of his wife and her lover, upstanding banker Andy Dufresne begins a new life at the Shawshank prison, where he puts his accounting skills to work for an amoral warden. During his long stretch in prison, Dufresne comes to be admired by the other inmates -- including an older prisoner named Red -- for his integrity and unquenchable sense of hope.', 'name': 'The Shawshank Redemption', 'type': 'movie', 'vote_average': 8.705, 'vote_count': 26660, 'release_year': 1994, 'backdrop_path': '/avedvodAZUcwqevBfm8p4G2NziQ.jpg', 'poster_path': '/9cqNxx0GxF0bflZmeSMuL5tnGzr.jpg'}, vector=None, shard_key=None, order_value=8.705),\n",
              " Record(id=129, payload={'document': 'Spirited Away is a movie released in 2001 with the following overview - A young girl, Chihiro, becomes trapped in a strange new world of spirits. When her parents undergo a mysterious transformation, she must call upon the courage she never knew she had to free her family.', 'name': 'Spirited Away', 'type': 'movie', 'vote_average': 8.537, 'vote_count': 16225, 'release_year': 2001, 'backdrop_path': '/m4TUa2ciEWSlk37rOsjiSIvZDXE.jpg', 'poster_path': '/39wmItIWsg5sZMyRUHLkWBcuVCM.jpg'}, vector=None, shard_key=None, order_value=8.537),\n",
              " Record(id=19404, payload={'document': 'Dilwale Dulhania Le Jayenge is a movie released in 1995 with the following overview - Raj is a rich, carefree, happy-go-lucky second generation NRI. Simran is the daughter of Chaudhary Baldev Singh, who in spite of being an NRI is very strict about adherence to Indian values. Simran has left for India to be married to her childhood fiancé. Raj leaves for India with a mission at his hands, to claim his lady love under the noses of her whole family. Thus begins a saga.', 'name': 'Dilwale Dulhania Le Jayenge', 'type': 'movie', 'vote_average': 8.534, 'vote_count': 4413, 'release_year': 1995, 'backdrop_path': '/90ez6ArvpO8bvpyIngBuwXOqJm5.jpg', 'poster_path': '/lfRkUr7DYdHldAqi3PwdQGBRBPM.jpg'}, vector=None, shard_key=None, order_value=8.534),\n",
              " Record(id=496243, payload={'document': \"Parasite is a movie released in 2019 with the following overview - All unemployed, Ki-taek's family takes peculiar interest in the wealthy and glamorous Parks for their livelihood until they get entangled in an unexpected incident.\", 'name': 'Parasite', 'type': 'movie', 'vote_average': 8.507, 'vote_count': 17904, 'release_year': 2019, 'backdrop_path': '/8eihUxjQsJ7WvGySkVMC0EwbPAD.jpg', 'poster_path': '/7IiTTgloJzvGI1TAYymCfbfl3vT.jpg'}, vector=None, shard_key=None, order_value=8.507),\n",
              " Record(id=497, payload={'document': \"The Green Mile is a movie released in 1999 with the following overview - A supernatural tale set on death row in a Southern prison, where gentle giant John Coffey possesses the mysterious power to heal people's ailments. When the cell block's head guard, Paul Edgecomb, recognizes Coffey's miraculous gift, he tries desperately to help stave off the condemned man's execution.\", 'name': 'The Green Mile', 'type': 'movie', 'vote_average': 8.506, 'vote_count': 17104, 'release_year': 1999, 'backdrop_path': '/vxJ08SvwomfKbpboCWynC3uqUg4.jpg', 'poster_path': '/8VG8fDNiy50H4FedGwdSVUPoaJe.jpg'}, vector=None, shard_key=None, order_value=8.506),\n",
              " Record(id=667257, payload={'document': 'Impossible Things is a movie released in 2021 with the following overview - After the death of her abusive husband, Matilde finds her new best friend in Miguel, her young, insecure, and disoriented neighbor.', 'name': 'Impossible Things', 'type': 'movie', 'vote_average': 8.5, 'vote_count': 380, 'release_year': 2021, 'backdrop_path': '/bxSBOAD8AuMHYMdW3jso9npAkgt.jpg', 'poster_path': '/t2Ew8NZ8Ci2kqmoecZUNQUFDJnQ.jpg'}, vector=None, shard_key=None, order_value=8.5),\n",
              " Record(id=680, payload={'document': \"Pulp Fiction is a movie released in 1994 with the following overview - A burger-loving hit man, his philosophical partner, a drug-addled gangster's moll and a washed-up boxer converge in this sprawling, comedic crime caper. Their adventures unfurl in three stories that ingeniously trip back and forth in time.\", 'name': 'Pulp Fiction', 'type': 'movie', 'vote_average': 8.488, 'vote_count': 27517, 'release_year': 1994, 'backdrop_path': '/suaEOtk1N1sgg2MTM7oZd2cfVp3.jpg', 'poster_path': '/d5iIlFn5s0ImszYzBPb8JPIfbXD.jpg'}, vector=None, shard_key=None, order_value=8.488),\n",
              " Record(id=372058, payload={'document': 'Your Name. is a movie released in 2016 with the following overview - High schoolers Mitsuha and Taki are complete strangers living separate lives. But one night, they suddenly switch places. Mitsuha wakes up in Taki’s body, and he in hers. This bizarre occurrence continues to happen randomly, and the two must adjust their lives around each other.', 'name': 'Your Name.', 'type': 'movie', 'vote_average': 8.488, 'vote_count': 11189, 'release_year': 2016, 'backdrop_path': '/dIWwZW7dJJtqC6CgWzYkNVKIUm8.jpg', 'poster_path': '/q719jXXEzOoYaps6babgKnONONX.jpg'}, vector=None, shard_key=None, order_value=8.488),\n",
              " Record(id=122, payload={'document': 'The Lord of the Rings: The Return of the King is a movie released in 2003 with the following overview - As armies mass for a final battle that will decide the fate of the world--and powerful, ancient forces of Light and Dark compete to determine the outcome--one member of the Fellowship of the Ring is revealed as the noble heir to the throne of the Kings of Men. Yet, the sole hope for triumph over evil lies with a brave hobbit, Frodo, who, accompanied by his loyal friend Sam and the hideous, wretched Gollum, ventures deep into the very dark heart of Mordor on his seemingly impossible quest to destroy the Ring of Power.\\u200b', 'name': 'The Lord of the Rings: The Return of the King', 'type': 'movie', 'vote_average': 8.481, 'vote_count': 23781, 'release_year': 2003, 'backdrop_path': '/2u7zbn8EudG6kLlBzUYqP8RyFU4.jpg', 'poster_path': '/rCzpDGLbOoPwLjy3OAm5NUPOTrC.jpg'}, vector=None, shard_key=None, order_value=8.481),\n",
              " Record(id=13, payload={'document': 'Forrest Gump is a movie released in 1994 with the following overview - A man with a low IQ has accomplished great things in his life and been present during significant historic events—in each case, far exceeding what anyone imagined he could do. But despite all he has achieved, his one true love eludes him.', 'name': 'Forrest Gump', 'type': 'movie', 'vote_average': 8.474, 'vote_count': 27032, 'release_year': 1994, 'backdrop_path': '/ghgfzbEV7kbpbi1O8eIILKVXEA8.jpg', 'poster_path': '/arw2vcBveWOVZr6pxd9XTd1TdQa.jpg'}, vector=None, shard_key=None, order_value=8.474),\n",
              " Record(id=1396, payload={'document': \"Breaking Bad is a tv series released in 2008 with the following overview - Walter White, a New Mexico chemistry teacher, is diagnosed with Stage III cancer and given a prognosis of only two years left to live. He becomes filled with a sense of fearlessness and an unrelenting desire to secure his family's financial future at any cost as he enters the dangerous world of drugs and crime.\", 'name': 'Breaking Bad', 'type': 'tv', 'vote_average': 8.913, 'vote_count': 14017, 'release_year': 2008, 'backdrop_path': '/9faGSFi5jam6pDWGNd0p8JcJgXQ.jpg', 'poster_path': '/ztkUQFLlC19CCMYHW9o1zWhJRNq.jpg'}, vector=None, shard_key=None, order_value=8.913),\n",
              " Record(id=94954, payload={'document': \"Hazbin Hotel is a tv series released in 2024 with the following overview - In attempt to find a non-violent alternative for reducing Hell's overpopulation, the daughter of Lucifer opens a rehabilitation hotel that offers a group of misfit demons a chance at redemption.\", 'name': 'Hazbin Hotel', 'type': 'tv', 'vote_average': 8.9, 'vote_count': 1047, 'release_year': 2024, 'backdrop_path': '/9kyyQXy79YRdY5mhrYKyktbFMev.jpg', 'poster_path': '/rXojaQcxVUubPLSrFV8PD4xdjrs.jpg'}, vector=None, shard_key=None, order_value=8.9),\n",
              " Record(id=209867, payload={'document': \"Frieren: Beyond Journey's End is a tv series released in 2023 with the following overview - After the party of heroes defeated the Demon King, they restored peace to the land and returned to lives of solitude. Generations pass, and the elven mage Frieren comes face to face with humanity’s mortality. She takes on a new apprentice and promises to fulfill old friends’ dying wishes. Can an elven mind make peace with the nature of life and death? Frieren embarks on her quest to find out.\", 'name': \"Frieren: Beyond Journey's End\", 'type': 'tv', 'vote_average': 8.897, 'vote_count': 248, 'release_year': 2023, 'backdrop_path': '/96RT2A47UdzWlUfvIERFyBsLhL2.jpg', 'poster_path': '/dqZENchTd7lp5zht7BdlqM7RBhD.jpg'}, vector=None, shard_key=None, order_value=8.897),\n",
              " Record(id=94605, payload={'document': 'Arcane is a tv series released in 2021 with the following overview - Amid the stark discord of twin cities Piltover and Zaun, two sisters fight on rival sides of a war between magic technologies and clashing convictions.', 'name': 'Arcane', 'type': 'tv', 'vote_average': 8.748, 'vote_count': 3916, 'release_year': 2021, 'backdrop_path': '/rkB4LyZHo1NHXFEDHl9vSD9r1lI.jpg', 'poster_path': '/fqldf2t8ztc9aiwn3k6mlX3tvRT.jpg'}, vector=None, shard_key=None, order_value=8.748),\n",
              " Record(id=37854, payload={'document': 'One Piece is a tv series released in 1999 with the following overview - Years ago, the fearsome Pirate King, Gol D. Roger was executed leaving a huge pile of treasure and the famous \"One Piece\" behind. Whoever claims the \"One Piece\" will be named the new King of the Pirates.\\n\\nMonkey D. Luffy, a boy who consumed a \"Devil Fruit,\" decides to follow in the footsteps of his idol, the pirate Shanks, and find the One Piece. It helps, of course, that his body has the properties of rubber and that he\\'s surrounded by a bevy of skilled fighters and thieves to help him along the way.\\n\\nLuffy will do anything to get the One Piece and become King of the Pirates!', 'name': 'One Piece', 'type': 'tv', 'vote_average': 8.7, 'vote_count': 4566, 'release_year': 1999, 'backdrop_path': '/2rmK7mnchw9Xr3XdiTFSxTTLXqv.jpg', 'poster_path': '/e3NBGiAifW9Xt8xD5tpARskjccO.jpg'}, vector=None, shard_key=None, order_value=8.7),\n",
              " Record(id=42705, payload={'document': \"Fighting Spirit is a tv series released in 2000 with the following overview - Makunouchi Ippo is an ordinary high school student in Japan. Since he spends most of his time away from school helping his mother run the family business, he doesn't get to enjoy his younger years like most teenagers. Always a target for bullying at school (the family fishing business grants him a distinct odor), Ippo's life is one of hardship. One of these after-school bullying sessions turns Ippo's life around for the better, as he is saved by a boxer named Takamura. He decides to follow in Takamura's footsteps and train to become a boxer, giving his life direction and purpose. Ippo's path to perfecting his pugilistic prowess is just beginning...\", 'name': 'Fighting Spirit', 'type': 'tv', 'vote_average': 8.7, 'vote_count': 1022, 'release_year': 2000, 'backdrop_path': '/2w8FaLwwJTWr6ExUMeVgT2Th5YT.jpg', 'poster_path': '/i3U3J2MWovIBZBnZYYiOLBXqNJZ.jpg'}, vector=None, shard_key=None, order_value=8.7),\n",
              " Record(id=85937, payload={'document': 'Demon Slayer: Kimetsu no Yaiba is a tv series released in 2019 with the following overview - It is the Taisho Period in Japan. Tanjiro, a kindhearted boy who sells charcoal for a living, finds his family slaughtered by a demon. To make matters worse, his younger sister Nezuko, the sole survivor, has been transformed into a demon herself. Though devastated by this grim reality, Tanjiro resolves to become a “demon slayer” so that he can turn his sister back into a human, and kill the demon that massacred his family.', 'name': 'Demon Slayer: Kimetsu no Yaiba', 'type': 'tv', 'vote_average': 8.7, 'vote_count': 6318, 'release_year': 2019, 'backdrop_path': '/3GQKYh6Trm8pxd2AypovoYQf4Ay.jpg', 'poster_path': '/xUfRZu2mi8jH6SzQEJGP6tjBuYj.jpg'}, vector=None, shard_key=None, order_value=8.7),\n",
              " Record(id=31911, payload={'document': 'Fullmetal Alchemist: Brotherhood is a tv series released in 2009 with the following overview - Disregard for alchemy’s laws ripped half of Edward Elric’s limbs from his body and left his brother Alphonse’s soul clinging to a suit of armor. To restore what was lost, the brothers seek the Philosopher’s Stone. Enemies and allies – the corrupt military, the Homunculi, and foreign alchemists – will alter the Elric brothers course, but their purpose will remain unchanged and their bond unbreakable.', 'name': 'Fullmetal Alchemist: Brotherhood', 'type': 'tv', 'vote_average': 8.7, 'vote_count': 1994, 'release_year': 2009, 'backdrop_path': '/A6tMQAo6t6eRFCPhsrShmxZLqFB.jpg', 'poster_path': '/8H4ej2NpujYVBPsW2smmzC8d2xU.jpg'}, vector=None, shard_key=None, order_value=8.7),\n",
              " Record(id=246, payload={'document': 'Avatar: The Last Airbender is a tv series released in 2005 with the following overview - In a war-torn world of elemental magic, a young boy reawakens to undertake a dangerous mystic quest to fulfill his destiny as the Avatar, and bring peace to the world.', 'name': 'Avatar: The Last Airbender', 'type': 'tv', 'vote_average': 8.7, 'vote_count': 4026, 'release_year': 2005, 'backdrop_path': '/kU98MbVVgi72wzceyrEbClZmMFe.jpg', 'poster_path': '/cHFZA8Tlv03nKTGXhLOYOLtqoSm.jpg'}, vector=None, shard_key=None, order_value=8.7),\n",
              " Record(id=1429, payload={'document': 'Attack on Titan is a tv series released in 2013 with the following overview - Many years ago, the last remnants of humanity were forced to retreat behind the towering walls of a fortified city to escape the massive, man-eating Titans that roamed the land outside their fortress. Only the heroic members of the Scouting Legion dared to stray beyond the safety of the walls – but even those brave warriors seldom returned alive. Those within the city clung to the illusion of a peaceful existence until the day that dream was shattered, and their slim chance at survival was reduced to one horrifying choice: kill – or be devoured!', 'name': 'Attack on Titan', 'type': 'tv', 'vote_average': 8.7, 'vote_count': 6233, 'release_year': 2013, 'backdrop_path': '/rqbCbjB19amtOtFQbb3K2lgm2zv.jpg', 'poster_path': '/hTP1DtLGFamjfu8WqjnuQdP1n4i.jpg'}, vector=None, shard_key=None, order_value=8.7)]"
            ]
          },
          "execution_count": 35,
          "metadata": {},
          "output_type": "execute_result"
        }
      ],
      "source": [
        "get_popular_titles(collection_name=COLLECTION_NAME, release_year_cutoff=1990, limit=20)"
      ]
    },
    {
      "cell_type": "markdown",
      "metadata": {},
      "source": [
        "We are fetching the top 20 movies and tv series. Once we have some likes and dislikes we will use Qdrant's recommend API to get more directed results. \n",
        "\n",
        "Let's now define a class that can store the user's choices."
      ]
    },
    {
      "cell_type": "code",
      "execution_count": 80,
      "metadata": {},
      "outputs": [],
      "source": [
        "class User:\n",
        "    def __init__(self):\n",
        "        self._likes = set()\n",
        "        self._dislikes = set()\n",
        "        self._not_watched = set()\n",
        "        self._recommendations = set()\n",
        "    \n",
        "    def discard(self, id):\n",
        "        self._likes.discard(id)\n",
        "        self._dislikes.discard(id)\n",
        "        self._not_watched.discard(id)\n",
        "        self._recommendations.discard(id)\n",
        "\n",
        "    def like(self, id):\n",
        "        self.discard(id)\n",
        "        self._likes.add(id)\n",
        "    \n",
        "    def dislike(self, id):\n",
        "        self.discard(id)\n",
        "        self._dislikes.add(id)\n",
        "    \n",
        "    def not_watched(self, id, recommended=False):\n",
        "        self.discard(id)\n",
        "        self._not_watched.add(id)\n",
        "        if recommended:\n",
        "            self._recommendations.add(id)\n",
        "    \n",
        "    def get_likes(self): \n",
        "        return list(self._likes)\n",
        "\n",
        "    def get_dislikes(self): \n",
        "        return list(self._dislikes)\n",
        "\n",
        "    def get_not_watched(self): \n",
        "        return list(self._not_watched)\n",
        "    \n",
        "    def get_recommendations(self): \n",
        "        return list(self._recommendations)\n",
        "        \n",
        "    def __repr__(self):\n",
        "        return (\"User::\\n\" +\n",
        "            f\"Likes: [{', '.join(map(str, self._likes))}] \\n\" +\n",
        "            f\"Dislikes: [{', '.join(map(str, self._dislikes))}] \\n\" +\n",
        "            f\"Not Watched: [{', '.join(map(str, self._not_watched))}] \\n\" +\n",
        "            f\"Recommendations: [{', '.join(map(str, self._recommendations))}]>\")            \n"
      ]
    },
    {
      "cell_type": "markdown",
      "metadata": {},
      "source": [
        "Now we are all set to create a widget that can ask for the user's preferences. We will be using ipywidget for this purpose. We will create a widget and attach event listeners on the buttons.\n"
      ]
    },
    {
      "cell_type": "code",
      "execution_count": 72,
      "metadata": {},
      "outputs": [],
      "source": [
        "import ipywidgets as widgets\n",
        "\n",
        "def create_prompt_widget_for_title(title, user: User, recommended: bool):\n",
        "    # Create the UI\n",
        "    base_img_url = \"https://image.tmdb.org/t/p/w300\"\n",
        "    poster = widgets.Image.from_url(url=f'{base_img_url}{title[\"poster_path\"]}', width=300)\n",
        "    released = f'({title.get(\"release_year\")})' if title.get(\"release_year\") is not None else ''\n",
        "    name = widgets.HTML(value=f'<h1>{title[\"name\"]} {released}</h1>')\n",
        "    tmdb_rating = widgets.HTML(value=f'<b>TMDB Rating: {title[\"vote_average\"]} ({title[\"vote_count\"]} ratings)</b>')\n",
        "    overview = widgets.HTML(value=title[\"overview\"])\n",
        "    notice = widgets.HTML(value=\"This widget will disappear once you click on any of the buttons\")\n",
        "    \n",
        "    # Create the action buttons\n",
        "    like_button = widgets.Button(\n",
        "        description='Like',\n",
        "        disabled=False,\n",
        "        button_style='Success',\n",
        "        tooltip='Like',\n",
        "        icon='check'\n",
        "    )\n",
        "    dislike_button = widgets.Button(\n",
        "        description='Dislike',\n",
        "        disabled=False,\n",
        "        button_style='danger',\n",
        "        tooltip='Dislike',\n",
        "        icon='cross'\n",
        "    )\n",
        "    not_watched_button = widgets.Button(\n",
        "        description='Not Watched',\n",
        "        disabled=False,\n",
        "        button_style='',\n",
        "        tooltip='Not Watched',\n",
        "        icon='check',\n",
        "    )\n",
        "    buttons = widgets.HBox([like_button, not_watched_button, dislike_button])\n",
        "    details = widgets.VBox([name, tmdb_rating, overview, buttons, notice], layout=widgets.Layout(padding='20px'))\n",
        "\n",
        "    widget = widgets.HBox([poster, details], layout=widgets.Layout(padding='5px', margin='10px'))\n",
        "\n",
        "    # Setup the event handlers for the action buttons\n",
        "    def like_handler(_):\n",
        "        user.like(title[\"id\"])\n",
        "        widget.close()\n",
        "    \n",
        "    def dislike_handler(_):\n",
        "        user.dislike(title[\"id\"])\n",
        "        widget.close()\n",
        "    \n",
        "    def not_watched_handler(_):\n",
        "        user.not_watched(title[\"id\"], recommended)\n",
        "        widget.close()\n",
        "    \n",
        "    # Wire 'em up.\n",
        "    like_button.on_click(like_handler)\n",
        "    dislike_button.on_click(dislike_handler)\n",
        "    not_watched_button.on_click(not_watched_handler)\n",
        "\n",
        "    return widget\n"
      ]
    },
    {
      "cell_type": "markdown",
      "metadata": {},
      "source": [
        "Here is what a prompt would look like"
      ]
    },
    {
      "cell_type": "code",
      "execution_count": null,
      "metadata": {},
      "outputs": [],
      "source": [
        "titles = load_titles_from_disk()\n",
        "title = titles[0]\n",
        "user = User()\n",
        "create_prompt_widget_for_title(title, user=user, recommended=True)"
      ]
    },
    {
      "cell_type": "markdown",
      "metadata": {},
      "source": [
        "Click a button to save your preference. The object of the User class will hold our preferences for future use."
      ]
    },
    {
      "cell_type": "markdown",
      "metadata": {},
      "source": [
        "## Preview Image for non interactive environments\n",
        "![Prompt Widget](./images/prompt-widget.png \"Prompt widget\")"
      ]
    },
    {
      "cell_type": "code",
      "execution_count": 83,
      "metadata": {},
      "outputs": [
        {
          "data": {
            "text/plain": [
              "User::\n",
              "Likes: [] \n",
              "Dislikes: [] \n",
              "Not Watched: [] \n",
              "Recommendations: []>"
            ]
          },
          "execution_count": 83,
          "metadata": {},
          "output_type": "execute_result"
        }
      ],
      "source": [
        "# The user object holds our preferences\n",
        "\n",
        "user"
      ]
    },
    {
      "cell_type": "markdown",
      "metadata": {},
      "source": [
        "We can now create a function to understand the user's likes and dislikes. We will fetch top 10 movies and tv shows and ask for our user's opinion on them."
      ]
    },
    {
      "cell_type": "code",
      "execution_count": 42,
      "metadata": {},
      "outputs": [],
      "source": [
        "def run_recommendation_loop(user: User):\n",
        "    results = get_popular_titles(COLLECTION_NAME, user.get_likes() + user.get_dislikes() + user.get_not_watched(), release_year_cutoff=1995, limit=10)\n",
        "    for result in results:\n",
        "        title = {\n",
        "            \"id\": result.id,\n",
        "            \"overview\": result.payload[\"document\"],\n",
        "            **result.payload\n",
        "        }\n",
        "        widget = create_prompt_widget_for_title(title, recommended=False, user=user)\n",
        "        display(widget)\n",
        "            \n",
        "    return user"
      ]
    },
    {
      "cell_type": "code",
      "execution_count": null,
      "metadata": {},
      "outputs": [],
      "source": [
        "user = User()\n",
        "\n",
        "user = run_recommendation_loop(user)"
      ]
    },
    {
      "cell_type": "markdown",
      "metadata": {},
      "source": [
        "We can see that the choices have been saved for our user."
      ]
    },
    {
      "cell_type": "code",
      "execution_count": 44,
      "metadata": {},
      "outputs": [
        {
          "data": {
            "text/plain": [
              "User::\n",
              "Likes: [497, 1396, 94605] \n",
              "Dislikes: [94954, 209867, 19404, 667257, 37854] \n",
              "Not Watched: [129, 496243] \n",
              "Recommendations: []>"
            ]
          },
          "execution_count": 44,
          "metadata": {},
          "output_type": "execute_result"
        }
      ],
      "source": [
        "user"
      ]
    },
    {
      "cell_type": "markdown",
      "metadata": {},
      "source": [
        "We know a bit about the user now. We can now create a method to get recommendations using Qdrant's client.recommend() API."
      ]
    },
    {
      "cell_type": "markdown",
      "metadata": {},
      "source": [
        "## Get Recommendations"
      ]
    },
    {
      "cell_type": "code",
      "execution_count": 49,
      "metadata": {},
      "outputs": [],
      "source": [
        "from qdrant_client.http.models import RecommendStrategy, Range\n",
        "\n",
        "def get_recommended_titles(collection_name, positive_ids=[], negative_ids=[], ignore_ids=[], release_year_cutoff=1900, limit=10):\n",
        "    return client.recommend(\n",
        "        collection_name=collection_name,\n",
        "        positive=positive_ids,\n",
        "        negative=negative_ids,\n",
        "        query_filter=Filter(\n",
        "            must=[\n",
        "                    FieldCondition(key=\"vote_average\", range=Range(gte=8)), \n",
        "                    FieldCondition(key=\"release_year\", range=Range(gte=release_year_cutoff))\n",
        "                ],\n",
        "            must_not=[\n",
        "                HasIdCondition(has_id=positive_ids + negative_ids + ignore_ids),\n",
        "            ],\n",
        "        ),\n",
        "        strategy=RecommendStrategy.AVERAGE_VECTOR,\n",
        "        # We need to pass in the name of the vector field. This is name is defined in the fastembed config and\n",
        "        # is choosen on the basis of our embedding model.\n",
        "        using=\"fast-bge-small-en\",\n",
        "        limit=limit,\n",
        "    )"
      ]
    },
    {
      "cell_type": "markdown",
      "metadata": {},
      "source": [
        "We can update our recommendation loop function to choose between popular and recommended titles."
      ]
    },
    {
      "cell_type": "code",
      "execution_count": 53,
      "metadata": {},
      "outputs": [],
      "source": [
        "def run_recommendation_loop(user: User):\n",
        "    recommended = False\n",
        "    release_year_cutoff = 1990\n",
        "    if len(user.get_likes()) < 10:\n",
        "        # If we have less than 10 likes don't try to get recommendations. Just get most popular titles\n",
        "        results = get_popular_titles(\n",
        "            collection_name=COLLECTION_NAME, \n",
        "            ignore_ids=user.get_likes() + user.get_dislikes() + user.get_not_watched(), \n",
        "            release_year_cutoff=release_year_cutoff, \n",
        "            limit=10)\n",
        "    else:   \n",
        "        recommended = True\n",
        "        results = get_recommended_titles(\n",
        "            collection_name=COLLECTION_NAME, \n",
        "            positive_ids=user.get_likes(), \n",
        "            negative_ids=user.get_dislikes(), \n",
        "            ignore_ids=user.get_not_watched(), \n",
        "            release_year_cutoff=release_year_cutoff,\n",
        "            limit=10)\n",
        "    for result in results:\n",
        "        title = {\n",
        "            \"id\": result.id,\n",
        "            \"overview\": result.payload[\"document\"],\n",
        "            **result.payload\n",
        "        }\n",
        "        # Create and display prompt widgets for all titles\n",
        "        widget = create_prompt_widget_for_title(title, recommended=recommended, user=user)\n",
        "        display(widget)\n",
        "            \n",
        "    return user"
      ]
    },
    {
      "cell_type": "code",
      "execution_count": 84,
      "metadata": {},
      "outputs": [
        {
          "data": {
            "application/vnd.jupyter.widget-view+json": {
              "model_id": "b438b0917a0d4313a73c1c9e0e19bcac",
              "version_major": 2,
              "version_minor": 0
            },
            "text/plain": [
              "HBox(children=(Image(value=b'https://image.tmdb.org/t/p/w300/9cqNxx0G...', format='url', width='300'), VBox(ch…"
            ]
          },
          "metadata": {},
          "output_type": "display_data"
        },
        {
          "data": {
            "application/vnd.jupyter.widget-view+json": {
              "model_id": "826824cb1aa14396b8ba46b656edf286",
              "version_major": 2,
              "version_minor": 0
            },
            "text/plain": [
              "HBox(children=(Image(value=b'https://image.tmdb.org/t/p/w300/39wmItIW...', format='url', width='300'), VBox(ch…"
            ]
          },
          "metadata": {},
          "output_type": "display_data"
        },
        {
          "data": {
            "application/vnd.jupyter.widget-view+json": {
              "model_id": "dff0411f54a04f22a5d7a2399a1595e1",
              "version_major": 2,
              "version_minor": 0
            },
            "text/plain": [
              "HBox(children=(Image(value=b'https://image.tmdb.org/t/p/w300/lfRkUr7D...', format='url', width='300'), VBox(ch…"
            ]
          },
          "metadata": {},
          "output_type": "display_data"
        },
        {
          "data": {
            "application/vnd.jupyter.widget-view+json": {
              "model_id": "1df39cd3e03c41939d4a86efd9c458ca",
              "version_major": 2,
              "version_minor": 0
            },
            "text/plain": [
              "HBox(children=(Image(value=b'https://image.tmdb.org/t/p/w300/7IiTTglo...', format='url', width='300'), VBox(ch…"
            ]
          },
          "metadata": {},
          "output_type": "display_data"
        },
        {
          "data": {
            "application/vnd.jupyter.widget-view+json": {
              "model_id": "8186e0a4e4a94dd2ae64c886af444b04",
              "version_major": 2,
              "version_minor": 0
            },
            "text/plain": [
              "HBox(children=(Image(value=b'https://image.tmdb.org/t/p/w300/8VG8fDNi...', format='url', width='300'), VBox(ch…"
            ]
          },
          "metadata": {},
          "output_type": "display_data"
        },
        {
          "data": {
            "application/vnd.jupyter.widget-view+json": {
              "model_id": "16f60cf42f01441596e431b7eb1b27cc",
              "version_major": 2,
              "version_minor": 0
            },
            "text/plain": [
              "HBox(children=(Image(value=b'https://image.tmdb.org/t/p/w300/ztkUQFLl...', format='url', width='300'), VBox(ch…"
            ]
          },
          "metadata": {},
          "output_type": "display_data"
        },
        {
          "data": {
            "application/vnd.jupyter.widget-view+json": {
              "model_id": "c940c7f70f044d78ab6be063f7ef60ad",
              "version_major": 2,
              "version_minor": 0
            },
            "text/plain": [
              "HBox(children=(Image(value=b'https://image.tmdb.org/t/p/w300/rXojaQcx...', format='url', width='300'), VBox(ch…"
            ]
          },
          "metadata": {},
          "output_type": "display_data"
        },
        {
          "data": {
            "application/vnd.jupyter.widget-view+json": {
              "model_id": "77268c189bde445da89342eff074b999",
              "version_major": 2,
              "version_minor": 0
            },
            "text/plain": [
              "HBox(children=(Image(value=b'https://image.tmdb.org/t/p/w300/dqZENchT...', format='url', width='300'), VBox(ch…"
            ]
          },
          "metadata": {},
          "output_type": "display_data"
        },
        {
          "data": {
            "application/vnd.jupyter.widget-view+json": {
              "model_id": "f5f84eac014d4c82a1dc3f1ecf7881cf",
              "version_major": 2,
              "version_minor": 0
            },
            "text/plain": [
              "HBox(children=(Image(value=b'https://image.tmdb.org/t/p/w300/fqldf2t8...', format='url', width='300'), VBox(ch…"
            ]
          },
          "metadata": {},
          "output_type": "display_data"
        },
        {
          "data": {
            "application/vnd.jupyter.widget-view+json": {
              "model_id": "2bf70476b29b4c3895e82feb1acfd126",
              "version_major": 2,
              "version_minor": 0
            },
            "text/plain": [
              "HBox(children=(Image(value=b'https://image.tmdb.org/t/p/w300/e3NBGiAi...', format='url', width='300'), VBox(ch…"
            ]
          },
          "metadata": {},
          "output_type": "display_data"
        }
      ],
      "source": [
        "user = User()\n",
        "\n",
        "user = run_recommendation_loop(user)"
      ]
    },
    {
      "cell_type": "markdown",
      "metadata": {},
      "source": [
        "Let's run the recommendation loop a few more times to collect more preferences."
      ]
    },
    {
      "cell_type": "code",
      "execution_count": null,
      "metadata": {},
      "outputs": [],
      "source": [
        "user = run_recommendation_loop(user)"
      ]
    },
    {
      "cell_type": "markdown",
      "metadata": {},
      "source": [
        "Now that we have collected enough preferences let's create a widget that will list out all the recommendations."
      ]
    },
    {
      "cell_type": "code",
      "execution_count": 95,
      "metadata": {},
      "outputs": [],
      "source": [
        "def create_display_widget_for_title(title, width):\n",
        "    base_img_url = \"https://image.tmdb.org/t/p/w300\"\n",
        "\n",
        "    html = f'<b>{title[\"name\"]}</b><br />'\n",
        "    html += f'<b>TMDB Rating: {title[\"vote_average\"]} ({title[\"vote_count\"]} ratings)</b>'\n",
        "    if title.get(\"release_year\") is not None:\n",
        "        html += f'<br />Released: {title.get(\"release_year\")}'\n",
        "    html = f'<div style=\"padding: 10px; background-color: #eee; width: {width}\">{html}</div>'\n",
        "    poster = widgets.Image.from_url(url=f'{base_img_url}{title[\"poster_path\"]}', width=300)\n",
        "    details = widgets.HTML(value=html)\n",
        "\n",
        "    widget = widgets.VBox([poster, details])\n",
        "    return widget\n",
        "\n",
        "def find_by_title_id(title_id):\n",
        "    titles = load_titles_from_disk()\n",
        "    return next(title for title in titles if title[\"id\"] == title_id)\n",
        "\n",
        "def show_recommendations(user: User):\n",
        "    width = \"300px\"\n",
        "    recommendations = user.get_recommendations()\n",
        "    if len(recommendations) == 0:\n",
        "        print(\"We don't have any recommendations yet. Run the loop a few time to get some recommendations\")\n",
        "    title_widgets = [create_display_widget_for_title(find_by_title_id(title), width) for title in recommendations]\n",
        "    return widgets.GridBox(title_widgets, layout=widgets.Layout(grid_template_columns=f\"repeat(3, {width})\", flex=\"flex\", justify_content=\"center\", grid_gap=\"10px\", padding=\"20px\"))\n",
        "    "
      ]
    },
    {
      "cell_type": "code",
      "execution_count": null,
      "metadata": {},
      "outputs": [],
      "source": [
        "# Call the show_recommendations function to list all the recommendations so far.\n",
        "show_recommendations(user)"
      ]
    },
    {
      "cell_type": "markdown",
      "metadata": {},
      "source": [
        "## Preview Image for non interactive environments\n",
        "![Display Widget](./images/display-widget.png \"Display widget\")"
      ]
    },
    {
      "cell_type": "markdown",
      "metadata": {},
      "source": [
        "# Next steps\n",
        "\n",
        "Right now we are using the default and the most light weight model to generate our embeddings. The results that we are getting a okay but certainly can be a lot better. The next step would be try out some of the available models and see which one gives the best result. Another thing to do would be to use a movie reviews dataset and use that to get better recommendations\n",
        "\n",
        "But that is something for another day.\n",
        "\n",
        "# Summary\n",
        "In this notebook we learned about\n",
        "- [Vector Embeddings]()\n",
        "- [Qdrant DB](https://qdrant.tech/)\n",
        "- [Fastembed](https://qdrant.github.io/fastembed/)\n",
        "- [QdrantClient.add()](https://qdrant.tech/documentation/fastembed/fastembed-semantic-search/#using-fastembed-with-qdrant-for-vector-search)\n",
        "- [QdrantClient.scroll()](https://qdrant.tech/documentation/concepts/points/#scroll-points)\n",
        "- [QdrantClient.recommend()](https://qdrant.tech/documentation/concepts/explore/#recommendation-api)\n",
        "- [TMDB API](https://developer.themoviedb.org/reference/intro/getting-started)\n",
        "- [ipywidgets](https://ipywidgets.readthedocs.io/en/stable/)\n",
        "\n",
        "# Footnotes\n",
        "- We could have installed and imported all the libraries at the top of the file. But in my opinion doing it just in time makes more sense for jupyter notebooks. Although it does increase the work if you want to move the code to a proper project."
      ]
    }
  ],
  "metadata": {
    "colab": {
      "provenance": []
    },
    "kernelspec": {
      "display_name": "Python 3",
      "name": "python3"
    },
    "language_info": {
      "codemirror_mode": {
        "name": "ipython",
        "version": 3
      },
      "file_extension": ".py",
      "mimetype": "text/x-python",
      "name": "python",
      "nbconvert_exporter": "python",
      "pygments_lexer": "ipython3",
      "version": "3.12.4"
    }
  },
  "nbformat": 4,
  "nbformat_minor": 0
}
